{
 "cells": [
  {
   "cell_type": "code",
   "execution_count": 17,
   "metadata": {
    "_cell_guid": "033852ed-2dd3-4bc3-bec1-ac3481ab175f",
    "_kg_hide-input": true,
    "_uuid": "af7422df064b7f16934cca9e86e8213bc9c667e8",
    "collapsed": true
   },
   "outputs": [],
   "source": [
    "import pandas as pd\n",
    "import numpy as np\n",
    "import gc\n",
    "import os\n",
    "import re\n",
    "import pickle\n",
    "import string\n",
    "\n",
    "from sklearn.model_selection import train_test_split\n",
    "from sklearn.metrics import mean_squared_error\n",
    "from sklearn.preprocessing import LabelEncoder\n",
    "from sklearn.feature_extraction.text import CountVectorizer, TfidfVectorizer\n",
    "from scipy.sparse import hstack, csr_matrix\n",
    "import lightgbm as lgb\n",
    "\n",
    "# for text data\n",
    "from nltk.stem.snowball import SnowballStemmer\n",
    "from nltk.corpus import stopwords\n",
    "from sklearn.decomposition import TruncatedSVD\n",
    "\n",
    "import matplotlib.pyplot as plt\n",
    "import seaborn as sns\n",
    "sns.set()\n",
    "%matplotlib inline\n",
    "pd.set_option('max_columns', 84)\n",
    "import warnings\n",
    "warnings.filterwarnings('ignore')"
   ]
  },
  {
   "cell_type": "code",
   "execution_count": 2,
   "metadata": {
    "collapsed": true
   },
   "outputs": [],
   "source": [
    "PATH_TO_DATA = ('D:/Py/DataFrames/Avito_Demand_Prediction_Challenge(KAGGLE)/')"
   ]
  },
  {
   "cell_type": "markdown",
   "metadata": {},
   "source": [
    "# Data preparation"
   ]
  },
  {
   "cell_type": "code",
   "execution_count": 3,
   "metadata": {
    "collapsed": true
   },
   "outputs": [],
   "source": [
    "train = pd.read_csv(os.path.join(PATH_TO_DATA, 'train.csv'))\n",
    "test = pd.read_csv(os.path.join(PATH_TO_DATA, 'test.csv'))"
   ]
  },
  {
   "cell_type": "code",
   "execution_count": 4,
   "metadata": {},
   "outputs": [
    {
     "data": {
      "text/html": [
       "<div>\n",
       "<style>\n",
       "    .dataframe thead tr:only-child th {\n",
       "        text-align: right;\n",
       "    }\n",
       "\n",
       "    .dataframe thead th {\n",
       "        text-align: left;\n",
       "    }\n",
       "\n",
       "    .dataframe tbody tr th {\n",
       "        vertical-align: top;\n",
       "    }\n",
       "</style>\n",
       "<table border=\"1\" class=\"dataframe\">\n",
       "  <thead>\n",
       "    <tr style=\"text-align: right;\">\n",
       "      <th></th>\n",
       "      <th>item_id</th>\n",
       "      <th>user_id</th>\n",
       "      <th>region</th>\n",
       "      <th>city</th>\n",
       "      <th>parent_category_name</th>\n",
       "      <th>category_name</th>\n",
       "      <th>param_1</th>\n",
       "      <th>param_2</th>\n",
       "      <th>param_3</th>\n",
       "      <th>title</th>\n",
       "      <th>description</th>\n",
       "      <th>price</th>\n",
       "      <th>item_seq_number</th>\n",
       "      <th>activation_date</th>\n",
       "      <th>user_type</th>\n",
       "      <th>image</th>\n",
       "      <th>image_top_1</th>\n",
       "      <th>deal_probability</th>\n",
       "    </tr>\n",
       "  </thead>\n",
       "  <tbody>\n",
       "    <tr>\n",
       "      <th>0</th>\n",
       "      <td>b912c3c6a6ad</td>\n",
       "      <td>e00f8ff2eaf9</td>\n",
       "      <td>Свердловская область</td>\n",
       "      <td>Екатеринбург</td>\n",
       "      <td>Личные вещи</td>\n",
       "      <td>Товары для детей и игрушки</td>\n",
       "      <td>Постельные принадлежности</td>\n",
       "      <td>NaN</td>\n",
       "      <td>NaN</td>\n",
       "      <td>Кокоби(кокон для сна)</td>\n",
       "      <td>Кокон для сна малыша,пользовались меньше месяц...</td>\n",
       "      <td>400.0</td>\n",
       "      <td>2</td>\n",
       "      <td>2017-03-28</td>\n",
       "      <td>Private</td>\n",
       "      <td>d10c7e016e03247a3bf2d13348fe959fe6f436c1caf64c...</td>\n",
       "      <td>1008.0</td>\n",
       "      <td>0.12789</td>\n",
       "    </tr>\n",
       "    <tr>\n",
       "      <th>1</th>\n",
       "      <td>2dac0150717d</td>\n",
       "      <td>39aeb48f0017</td>\n",
       "      <td>Самарская область</td>\n",
       "      <td>Самара</td>\n",
       "      <td>Для дома и дачи</td>\n",
       "      <td>Мебель и интерьер</td>\n",
       "      <td>Другое</td>\n",
       "      <td>NaN</td>\n",
       "      <td>NaN</td>\n",
       "      <td>Стойка для Одежды</td>\n",
       "      <td>Стойка для одежды, под вешалки. С бутика.</td>\n",
       "      <td>3000.0</td>\n",
       "      <td>19</td>\n",
       "      <td>2017-03-26</td>\n",
       "      <td>Private</td>\n",
       "      <td>79c9392cc51a9c81c6eb91eceb8e552171db39d7142700...</td>\n",
       "      <td>692.0</td>\n",
       "      <td>0.00000</td>\n",
       "    </tr>\n",
       "    <tr>\n",
       "      <th>2</th>\n",
       "      <td>ba83aefab5dc</td>\n",
       "      <td>91e2f88dd6e3</td>\n",
       "      <td>Ростовская область</td>\n",
       "      <td>Ростов-на-Дону</td>\n",
       "      <td>Бытовая электроника</td>\n",
       "      <td>Аудио и видео</td>\n",
       "      <td>Видео, DVD и Blu-ray плееры</td>\n",
       "      <td>NaN</td>\n",
       "      <td>NaN</td>\n",
       "      <td>Philips bluray</td>\n",
       "      <td>В хорошем состоянии, домашний кинотеатр с blu ...</td>\n",
       "      <td>4000.0</td>\n",
       "      <td>9</td>\n",
       "      <td>2017-03-20</td>\n",
       "      <td>Private</td>\n",
       "      <td>b7f250ee3f39e1fedd77c141f273703f4a9be59db4b48a...</td>\n",
       "      <td>3032.0</td>\n",
       "      <td>0.43177</td>\n",
       "    </tr>\n",
       "  </tbody>\n",
       "</table>\n",
       "</div>"
      ],
      "text/plain": [
       "        item_id       user_id                region            city  \\\n",
       "0  b912c3c6a6ad  e00f8ff2eaf9  Свердловская область    Екатеринбург   \n",
       "1  2dac0150717d  39aeb48f0017     Самарская область          Самара   \n",
       "2  ba83aefab5dc  91e2f88dd6e3    Ростовская область  Ростов-на-Дону   \n",
       "\n",
       "  parent_category_name               category_name  \\\n",
       "0          Личные вещи  Товары для детей и игрушки   \n",
       "1      Для дома и дачи           Мебель и интерьер   \n",
       "2  Бытовая электроника               Аудио и видео   \n",
       "\n",
       "                       param_1 param_2 param_3                  title  \\\n",
       "0    Постельные принадлежности     NaN     NaN  Кокоби(кокон для сна)   \n",
       "1                       Другое     NaN     NaN      Стойка для Одежды   \n",
       "2  Видео, DVD и Blu-ray плееры     NaN     NaN         Philips bluray   \n",
       "\n",
       "                                         description   price  item_seq_number  \\\n",
       "0  Кокон для сна малыша,пользовались меньше месяц...   400.0                2   \n",
       "1          Стойка для одежды, под вешалки. С бутика.  3000.0               19   \n",
       "2  В хорошем состоянии, домашний кинотеатр с blu ...  4000.0                9   \n",
       "\n",
       "  activation_date user_type  \\\n",
       "0      2017-03-28   Private   \n",
       "1      2017-03-26   Private   \n",
       "2      2017-03-20   Private   \n",
       "\n",
       "                                               image  image_top_1  \\\n",
       "0  d10c7e016e03247a3bf2d13348fe959fe6f436c1caf64c...       1008.0   \n",
       "1  79c9392cc51a9c81c6eb91eceb8e552171db39d7142700...        692.0   \n",
       "2  b7f250ee3f39e1fedd77c141f273703f4a9be59db4b48a...       3032.0   \n",
       "\n",
       "   deal_probability  \n",
       "0           0.12789  \n",
       "1           0.00000  \n",
       "2           0.43177  "
      ]
     },
     "execution_count": 4,
     "metadata": {},
     "output_type": "execute_result"
    }
   ],
   "source": [
    "train.head(3)"
   ]
  },
  {
   "cell_type": "markdown",
   "metadata": {},
   "source": [
    "- `item_id` - Ad id.\n",
    "- `user_id` - User id.\n",
    "- `region` - Ad region.\n",
    "- `city` - Ad city.\n",
    "- `parent_category_name` - Top level ad category as classified by Avito's ad model.\n",
    "- `category_name` - Fine grain ad category as classified by Avito's ad model.\n",
    "- `param_1` - Optional parameter from Avito's ad model.\n",
    "- `param_2` - Optional parameter from Avito's ad model.\n",
    "- `param_3` - Optional parameter from Avito's ad model.\n",
    "- `title` - Ad title.\n",
    "- `description` - Ad description.\n",
    "- `price` - Ad price.\n",
    "- `item_seq_number` - Ad sequential number for user.\n",
    "- `activation_date` - Date ad was placed.\n",
    "- `user_type` - User type.\n",
    "- `image` - Id code of image. Ties to a jpg file in train_jpg. Not every ad has an image.\n",
    "- `image_top_1` - Avito's classification code for the image.\n",
    "- `deal_probability` - The target variable. This is the likelihood that an ad actually sold something. It's not possible to verify every transaction with certainty, so this column's value can be any float from zero to one."
   ]
  },
  {
   "cell_type": "markdown",
   "metadata": {},
   "source": [
    "Start with simple feature engineering that helped me the most"
   ]
  },
  {
   "cell_type": "code",
   "execution_count": null,
   "metadata": {
    "collapsed": true
   },
   "outputs": [],
   "source": [
    "categorical = [\n",
    "    'image_top_1', 'param_1', 'param_2', 'param_3', \n",
    "    'city', 'region', 'category_name', 'parent_category_name', 'user_type'\n",
    "]"
   ]
  },
  {
   "cell_type": "code",
   "execution_count": 6,
   "metadata": {
    "collapsed": true
   },
   "outputs": [],
   "source": [
    "# easy preprocessing\n",
    "text_cols = [\n",
    "    'title', 'description', 'param_1', 'param_2', 'param_3',\n",
    "    'city', 'region', 'category_name', 'parent_category_name'\n",
    "]\n",
    "for col in text_cols:\n",
    "    for df in [train, test]:\n",
    "        df[col] = df[col].str.replace(r\"[^А-Яа-яA-Za-z0-9,!?@\\'\\`\\\"\\_\\n]\", ' ')\n",
    "        df[col].fillna(\"NA\", inplace=True)\n",
    "        df[col] = df[col].str.lower()"
   ]
  },
  {
   "cell_type": "code",
   "execution_count": null,
   "metadata": {
    "collapsed": true
   },
   "outputs": [],
   "source": [
    "for df in [train, test]:\n",
    "    df['len_description'] = df['description'].apply(lambda x: len(str(x)))\n",
    "    df['num_desc_punct'] = df['description'].apply(lambda x: len([c for c in str(x) if c in string.punctuation])) / df['len_description']\n",
    "    \n",
    "    for col in ['description', 'title']:\n",
    "        df['num_words_' + col] = df[col].apply(lambda comment: len(comment.split()))\n",
    "        df['num_unique_words_' + col] = df[col].apply(lambda comment: len(set(w for w in comment.split())))\n",
    "\n",
    "    # percentage of unique words\n",
    "    df['words_vs_unique_title'] = df['num_unique_words_title'] / df['num_words_title'] * 100\n",
    "    df['words_vs_unique_description'] = df['num_unique_words_description'] / df['num_words_description'] * 100\n",
    "    \n",
    "    for feature in categorical:\n",
    "        df[feature] = df[feature].astype(str)\n",
    "    \n",
    "    df['categorical_come_in'] = df['image_top_1'] + \"_\" + df['param_1'] + \"_\" + df['param_2'] + \"_\" + \\\n",
    "                                df['param_3'] + \"_\" + df['city'] + \"_\" + df['category_name'] + \\\n",
    "                                df['user_type'] + \"_\" + df['region'] + \"_\" + df['parent_category_name']\n",
    "    df['params'] = df['param_1'] + \"_\" + df['param_2'] + \"_\" + df['param_3']"
   ]
  },
  {
   "cell_type": "markdown",
   "metadata": {},
   "source": [
    "Let's transform categorical features with the Label Encoder. I tried such methods as frequency encoding, target encoding, likelihood enconding and etc, but in my case it was worse."
   ]
  },
  {
   "cell_type": "code",
   "execution_count": 24,
   "metadata": {
    "_cell_guid": "7695c1a1-06cf-40e6-8792-77b62f48262a",
    "_uuid": "0bcde9bb9b9b26347c7db7da47123c6fec40860e"
   },
   "outputs": [
    {
     "name": "stdout",
     "output_type": "stream",
     "text": [
      "Transforming image_top_1...\n",
      "Transforming param_1...\n",
      "Transforming param_2...\n",
      "Transforming param_3...\n",
      "Transforming city...\n",
      "Transforming region...\n",
      "Transforming category_name...\n",
      "Transforming parent_category_name...\n",
      "Transforming user_type...\n"
     ]
    }
   ],
   "source": [
    "categorical.append(['categorical_come_in', 'params'])\n",
    "\n",
    "for feature in categorical:\n",
    "    print(f'Transforming {feature}...')\n",
    "    encoder = LabelEncoder()\n",
    "    encoder.fit(train[feature].append(test[feature]).astype(str))\n",
    "    \n",
    "    train[feature] = encoder.transform(train[feature].astype(str))\n",
    "    test[feature] = encoder.transform(test[feature].astype(str))"
   ]
  },
  {
   "cell_type": "markdown",
   "metadata": {},
   "source": [
    "I need to save new features to free up my memory"
   ]
  },
  {
   "cell_type": "code",
   "execution_count": 22,
   "metadata": {},
   "outputs": [
    {
     "data": {
      "text/plain": [
       "2430"
      ]
     },
     "execution_count": 22,
     "metadata": {},
     "output_type": "execute_result"
    }
   ],
   "source": [
    "# [DUMP] TRAIN + TEST\n",
    "train.to_csv(os.path.join(PATH_TO_DATA, 'train_all_features.csv'), index=False, encoding='utf-8')\n",
    "test.to_csv(os.path.join(PATH_TO_DATA, 'test_all_features.csv'), index=False, encoding='utf-8')\n",
    "\n",
    "del train, test\n",
    "gc.collect()"
   ]
  },
  {
   "cell_type": "markdown",
   "metadata": {},
   "source": [
    "# Text"
   ]
  },
  {
   "cell_type": "markdown",
   "metadata": {},
   "source": [
    "In working with text, the best quality was given by **stemming**, **TF-IDF** and **10 SVD components for each of the fields**. So let's do it."
   ]
  },
  {
   "cell_type": "code",
   "execution_count": null,
   "metadata": {
    "collapsed": true
   },
   "outputs": [],
   "source": [
    "train = pd.read_csv(os.path.join(PATH_TO_DATA, 'train.csv'))\n",
    "test = pd.read_csv(os.path.join(PATH_TO_DATA, 'test.csv'))"
   ]
  },
  {
   "cell_type": "code",
   "execution_count": 12,
   "metadata": {
    "collapsed": true
   },
   "outputs": [],
   "source": [
    "stemmer = SnowballStemmer(\"russian\",  ignore_stopwords=False)"
   ]
  },
  {
   "cell_type": "code",
   "execution_count": 27,
   "metadata": {},
   "outputs": [
    {
     "name": "stdout",
     "output_type": "stream",
     "text": [
      "Wall time: 51min 14s\n"
     ]
    }
   ],
   "source": [
    "%%time\n",
    "train['title_stemm'] = train['title'].apply(lambda string: ' '.join([stemmer.stem(w) for w in string.split()]))\n",
    "test['title_stemm'] = test['title'].apply(lambda string: ' '.join([stemmer.stem(w) for w in string.split()]))\n",
    "train['description_stemm'] = train['description'].apply(lambda string: ' '.join([stemmer.stem(w) for w in string.split()]))\n",
    "test['description_stemm'] = test['description'].apply(lambda string: ' '.join([stemmer.stem(w) for w in string.split()]))"
   ]
  },
  {
   "cell_type": "code",
   "execution_count": 10,
   "metadata": {
    "collapsed": true
   },
   "outputs": [],
   "source": [
    "train['text'] = train['param_1'] + \" \" + train['param_2'] + \" \" + train['param_3'] + \" \" + \\\n",
    "                train['city'] + \" \" + train['category_name'] + \" \" + train['parent_category_name']\n",
    "test['text'] =  test['param_1'] + \" \" + test['param_2'] + \" \" + test['param_3'] + \" \" + \\\n",
    "                test['city'] + \" \" + test['category_name'] + \" \" + test['parent_category_name']"
   ]
  },
  {
   "cell_type": "code",
   "execution_count": 13,
   "metadata": {},
   "outputs": [
    {
     "name": "stdout",
     "output_type": "stream",
     "text": [
      "Wall time: 47min 38s\n"
     ]
    }
   ],
   "source": [
    "%%time\n",
    "train['text_stemm'] = train['text'].apply(lambda string: ' '.join([stemmer.stem(w) for w in string.split()]))\n",
    "test['text_stemm'] = test['text'].apply(lambda string: ' '.join([stemmer.stem(w) for w in string.split()]))"
   ]
  },
  {
   "cell_type": "code",
   "execution_count": 29,
   "metadata": {
    "collapsed": true
   },
   "outputs": [],
   "source": [
    "for df in [train, test]:\n",
    "    df.drop(['title', 'description', 'text'], axis=1, inplace=True)"
   ]
  },
  {
   "cell_type": "markdown",
   "metadata": {},
   "source": [
    "**TF-IDF + SVD**"
   ]
  },
  {
   "cell_type": "code",
   "execution_count": 8,
   "metadata": {
    "_cell_guid": "8d61ada6-8f3a-4b58-baad-199589122985",
    "_uuid": "cc558a03cbddc3954b01783636785cdee6cf954a"
   },
   "outputs": [
    {
     "name": "stdout",
     "output_type": "stream",
     "text": [
      "Wall time: 1min 15s\n"
     ]
    }
   ],
   "source": [
    "%%time\n",
    "# CountVectorizer for 'title'\n",
    "title_tfidf = CountVectorizer(stop_words=stopwords.words('russian'), lowercase=True,\n",
    "                              token_pattern=r'\\w{1,}', ngram_range=(1, 1))\n",
    "\n",
    "full_tfidf = title_tfidf.fit_transform(train['title_stemm'].values.tolist() + test['title_stemm'].values.tolist())\n",
    "train_title_tfidf = title_tfidf.transform(train['title_stemm'].values.tolist())\n",
    "test_title_tfidf = title_tfidf.transform(test['title_stemm'].values.tolist())\n",
    "\n",
    "### SVD Components ###\n",
    "n_comp = 10\n",
    "svd_obj = TruncatedSVD(n_components=n_comp, algorithm='arpack')\n",
    "svd_obj.fit(full_tfidf)\n",
    "train_svd = pd.DataFrame(svd_obj.transform(train_title_tfidf))\n",
    "test_svd = pd.DataFrame(svd_obj.transform(test_title_tfidf))\n",
    "train_svd.columns = ['svd_title_'+str(i+1) for i in range(n_comp)]\n",
    "test_svd.columns = ['svd_title_'+str(i+1) for i in range(n_comp)]\n",
    "train_svd['item_id'] = train['item_id']\n",
    "test_svd['item_id'] = test['item_id']\n",
    "\n",
    "# Merge and delete\n",
    "train = train.merge(train_svd, on='item_id', how='left')\n",
    "test = test.merge(test_svd, on='item_id', how='left')\n",
    "del full_tfidf, train_svd, test_svd\n",
    "gc.collect()"
   ]
  },
  {
   "cell_type": "code",
   "execution_count": 10,
   "metadata": {},
   "outputs": [
    {
     "name": "stdout",
     "output_type": "stream",
     "text": [
      "Wall time: 10min 31s\n"
     ]
    }
   ],
   "source": [
    "%%time\n",
    "# TF-IDF for 'description'\n",
    "desc_tfidf = TfidfVectorizer(stop_words=stopwords.words('russian'), token_pattern=r'\\w{1,}',\n",
    "                             lowercase=True, ngram_range=(1, 2),  norm='l2', smooth_idf=False,\n",
    "                             max_features=17000)\n",
    "full_tfidf = desc_tfidf.fit_transform(train['description_stemm'].values.tolist() + test['description_stemm'].values.tolist())\n",
    "train_desc_tfidf = desc_tfidf.transform(train['description_stemm'].values.tolist())\n",
    "test_desc_tfidf = desc_tfidf.transform(test['description_stemm'].values.tolist())\n",
    "\n",
    "### SVD Components ###\n",
    "n_comp = 10\n",
    "svd_obj = TruncatedSVD(n_components=n_comp, algorithm='arpack')\n",
    "svd_obj.fit(full_tfidf)\n",
    "train_svd = pd.DataFrame(svd_obj.transform(train_desc_tfidf))\n",
    "test_svd = pd.DataFrame(svd_obj.transform(test_desc_tfidf))\n",
    "train_svd.columns = ['svd_description_'+str(i+1) for i in range(n_comp)]\n",
    "test_svd.columns = ['svd_description_'+str(i+1) for i in range(n_comp)]\n",
    "train_svd['item_id'] = train['item_id']\n",
    "test_svd['item_id'] = test['item_id']\n",
    "\n",
    "# Merge and delete\n",
    "train = train.merge(train_svd, on='item_id', how='left')\n",
    "test = test.merge(test_svd, on='item_id', how='left')\n",
    "del full_tfidf, train_svd, test_svd\n",
    "gc.collect()"
   ]
  },
  {
   "cell_type": "code",
   "execution_count": 28,
   "metadata": {},
   "outputs": [
    {
     "name": "stdout",
     "output_type": "stream",
     "text": [
      "Wall time: 3min 46s\n"
     ]
    }
   ],
   "source": [
    "%%time\n",
    "# TF-IDF for 'other text'\n",
    "text_tfidf = TfidfVectorizer(stop_words=stopwords.words('russian'), token_pattern=r'\\w{1,}',\n",
    "                             lowercase=True, ngram_range=(1, 2),  norm='l2', smooth_idf=False,\n",
    "                             max_features=17000)\n",
    "full_tfidf = text_tfidf.fit_transform(train['text_stemm'].values.tolist() + test['text_stemm'].values.tolist())\n",
    "train_text_tfidf = text_tfidf.transform(train['text_stemm'].values.tolist())\n",
    "test_text_tfidf = text_tfidf.transform(test['text_stemm'].values.tolist())\n",
    "\n",
    "### SVD Components ###\n",
    "n_comp = 10\n",
    "svd_obj = TruncatedSVD(n_components=n_comp, algorithm='arpack')\n",
    "svd_obj.fit(full_tfidf)\n",
    "train_svd = pd.DataFrame(svd_obj.transform(train_text_tfidf))\n",
    "test_svd = pd.DataFrame(svd_obj.transform(test_text_tfidf))\n",
    "train_svd.columns = ['svd_text_'+str(i+1) for i in range(n_comp)]\n",
    "test_svd.columns = ['svd_text_'+str(i+1) for i in range(n_comp)]\n",
    "train_svd['item_id'] = train['item_id']\n",
    "test_svd['item_id'] = test['item_id']\n",
    "\n",
    "# Merge and delete\n",
    "train = train.merge(train_svd, on='item_id', how='left')\n",
    "test = test.merge(test_svd, on='item_id', how='left')\n",
    "del full_tfidf, train_svd, test_svd\n",
    "gc.collect()"
   ]
  },
  {
   "cell_type": "code",
   "execution_count": 38,
   "metadata": {
    "collapsed": true
   },
   "outputs": [],
   "source": [
    "# [STACKING]\n",
    "train_tfidf = csr_matrix(hstack([train_title_tfidf, train_desc_tfidf, train_text_tfidf])) \n",
    "test_tfidf = csr_matrix(hstack([test_title_tfidf, test_desc_tfidf, test_text_tfidf]))\n",
    "\n",
    "del train_title_tfidf, train_desc_tfidf, train_text_tfidf\n",
    "del test_title_tfidf, test_desc_tfidf, test_text_tfidf\n",
    "gc.collect()"
   ]
  },
  {
   "cell_type": "code",
   "execution_count": 42,
   "metadata": {
    "collapsed": true
   },
   "outputs": [],
   "source": [
    "vocab = np.hstack([\n",
    "    title_tfidf.get_feature_names(),\n",
    "    desc_tfidf.get_feature_names(),\n",
    "    text_tfidf.get_feature_names()\n",
    "])"
   ]
  },
  {
   "cell_type": "code",
   "execution_count": 43,
   "metadata": {
    "collapsed": true
   },
   "outputs": [],
   "source": [
    "# [DUMP] TF-IDF pickle files + vocabulary\n",
    "with open(os.path.join(PATH_TO_DATA, 'train_tfidf.pkl'), 'wb') as train_tfidf_pkl:\n",
    "    pickle.dump(train_tfidf, train_tfidf_pkl, protocol=2)\n",
    "with open(os.path.join(PATH_TO_DATA, 'test_tfidf.pkl'), 'wb') as test_tfidf_pkl:\n",
    "    pickle.dump(test_tfidf, test_tfidf_pkl, protocol=2)\n",
    "with open(os.path.join(PATH_TO_DATA, 'vocab.pkl'), 'wb') as vocab_pkl:\n",
    "    pickle.dump(vocab, vocab_pkl, protocol=2)"
   ]
  },
  {
   "cell_type": "code",
   "execution_count": 44,
   "metadata": {},
   "outputs": [
    {
     "data": {
      "text/plain": [
       "405"
      ]
     },
     "execution_count": 44,
     "metadata": {},
     "output_type": "execute_result"
    }
   ],
   "source": [
    "del train, train_tfidf, test, test_tfidf, vocab\n",
    "gc.collect()"
   ]
  },
  {
   "cell_type": "markdown",
   "metadata": {},
   "source": [
    "# Using other .csv files"
   ]
  },
  {
   "cell_type": "markdown",
   "metadata": {},
   "source": [
    "Loading other data. To save some memory, we only load `item_id` and `user_id`, as that's all we need for the proposed features."
   ]
  },
  {
   "cell_type": "code",
   "execution_count": 6,
   "metadata": {
    "collapsed": true
   },
   "outputs": [],
   "source": [
    "used_cols = ['item_id', 'user_id']\n",
    "\n",
    "train = pd.read_csv(os.path.join(PATH_TO_DATA, 'train.csv'), usecols=used_cols)\n",
    "train_active = pd.read_csv(os.path.join(PATH_TO_DATA, 'train_active.csv'), usecols=used_cols)\n",
    "test = pd.read_csv(os.path.join(PATH_TO_DATA, 'test.csv'), usecols=used_cols)\n",
    "test_active = pd.read_csv(os.path.join(PATH_TO_DATA, 'test_active.csv'), usecols=used_cols)\n",
    "\n",
    "train_periods = pd.read_csv(os.path.join(PATH_TO_DATA, 'periods_train.csv'), parse_dates=['date_from', 'date_to'])\n",
    "test_periods = pd.read_csv(os.path.join(PATH_TO_DATA, 'periods_test.csv'), parse_dates=['date_from', 'date_to'])"
   ]
  },
  {
   "cell_type": "code",
   "execution_count": 7,
   "metadata": {},
   "outputs": [
    {
     "data": {
      "text/plain": [
       "2046"
      ]
     },
     "execution_count": 7,
     "metadata": {},
     "output_type": "execute_result"
    }
   ],
   "source": [
    "all_samples = pd.concat([\n",
    "    train,\n",
    "    train_active,\n",
    "    test,\n",
    "    test_active\n",
    "]).reset_index(drop=True)\n",
    "all_samples.drop_duplicates(['item_id'], inplace=True)\n",
    "\n",
    "del train_active, test_active\n",
    "gc.collect()"
   ]
  },
  {
   "cell_type": "markdown",
   "metadata": {},
   "source": [
    "We will also concatenate the train and test period data to one dataframe for easier processing."
   ]
  },
  {
   "cell_type": "code",
   "execution_count": 8,
   "metadata": {},
   "outputs": [
    {
     "data": {
      "text/plain": [
       "7"
      ]
     },
     "execution_count": 8,
     "metadata": {},
     "output_type": "execute_result"
    }
   ],
   "source": [
    "all_periods = pd.concat([\n",
    "    train_periods,\n",
    "    test_periods\n",
    "])\n",
    "\n",
    "del train_periods, test_periods\n",
    "gc.collect()"
   ]
  },
  {
   "cell_type": "code",
   "execution_count": 9,
   "metadata": {},
   "outputs": [
    {
     "data": {
      "text/html": [
       "<div>\n",
       "<style>\n",
       "    .dataframe thead tr:only-child th {\n",
       "        text-align: right;\n",
       "    }\n",
       "\n",
       "    .dataframe thead th {\n",
       "        text-align: left;\n",
       "    }\n",
       "\n",
       "    .dataframe tbody tr th {\n",
       "        vertical-align: top;\n",
       "    }\n",
       "</style>\n",
       "<table border=\"1\" class=\"dataframe\">\n",
       "  <thead>\n",
       "    <tr style=\"text-align: right;\">\n",
       "      <th></th>\n",
       "      <th>item_id</th>\n",
       "      <th>activation_date</th>\n",
       "      <th>date_from</th>\n",
       "      <th>date_to</th>\n",
       "    </tr>\n",
       "  </thead>\n",
       "  <tbody>\n",
       "    <tr>\n",
       "      <th>0</th>\n",
       "      <td>8f5caef7afb0</td>\n",
       "      <td>2017-02-14</td>\n",
       "      <td>2017-03-15</td>\n",
       "      <td>2017-03-16</td>\n",
       "    </tr>\n",
       "    <tr>\n",
       "      <th>1</th>\n",
       "      <td>66218ff526d1</td>\n",
       "      <td>2017-02-16</td>\n",
       "      <td>2017-03-15</td>\n",
       "      <td>2017-03-18</td>\n",
       "    </tr>\n",
       "    <tr>\n",
       "      <th>2</th>\n",
       "      <td>b237d9539b21</td>\n",
       "      <td>2017-03-01</td>\n",
       "      <td>2017-03-15</td>\n",
       "      <td>2017-03-28</td>\n",
       "    </tr>\n",
       "  </tbody>\n",
       "</table>\n",
       "</div>"
      ],
      "text/plain": [
       "        item_id activation_date  date_from    date_to\n",
       "0  8f5caef7afb0      2017-02-14 2017-03-15 2017-03-16\n",
       "1  66218ff526d1      2017-02-16 2017-03-15 2017-03-18\n",
       "2  b237d9539b21      2017-03-01 2017-03-15 2017-03-28"
      ]
     },
     "execution_count": 9,
     "metadata": {},
     "output_type": "execute_result"
    }
   ],
   "source": [
    "all_periods.head(3)"
   ]
  },
  {
   "cell_type": "markdown",
   "metadata": {},
   "source": [
    "- First, for our feature `avg_days_up_user`, we have to calculate the number of days every item has been put up. This can easily be done with pandas's `dt` API.\n",
    "- Because we want the sum of days one item has been put up for sale, we will group by `item_id` and sum the `days_up` column. We will also count the number of items in an item ID group for our second feature, `avg_times_up_user`."
   ]
  },
  {
   "cell_type": "code",
   "execution_count": 11,
   "metadata": {},
   "outputs": [
    {
     "data": {
      "text/html": [
       "<div>\n",
       "<style>\n",
       "    .dataframe thead tr:only-child th {\n",
       "        text-align: right;\n",
       "    }\n",
       "\n",
       "    .dataframe thead th {\n",
       "        text-align: left;\n",
       "    }\n",
       "\n",
       "    .dataframe tbody tr th {\n",
       "        vertical-align: top;\n",
       "    }\n",
       "</style>\n",
       "<table border=\"1\" class=\"dataframe\">\n",
       "  <thead>\n",
       "    <tr style=\"text-align: right;\">\n",
       "      <th></th>\n",
       "      <th>item_id</th>\n",
       "      <th>days_up_sum</th>\n",
       "      <th>times_put_up</th>\n",
       "    </tr>\n",
       "  </thead>\n",
       "  <tbody>\n",
       "    <tr>\n",
       "      <th>0</th>\n",
       "      <td>00000077ff21</td>\n",
       "      <td>13</td>\n",
       "      <td>1</td>\n",
       "    </tr>\n",
       "    <tr>\n",
       "      <th>1</th>\n",
       "      <td>000002c54018</td>\n",
       "      <td>6</td>\n",
       "      <td>1</td>\n",
       "    </tr>\n",
       "    <tr>\n",
       "      <th>2</th>\n",
       "      <td>000005570503</td>\n",
       "      <td>1</td>\n",
       "      <td>1</td>\n",
       "    </tr>\n",
       "  </tbody>\n",
       "</table>\n",
       "</div>"
      ],
      "text/plain": [
       "        item_id  days_up_sum  times_put_up\n",
       "0  00000077ff21           13             1\n",
       "1  000002c54018            6             1\n",
       "2  000005570503            1             1"
      ]
     },
     "execution_count": 11,
     "metadata": {},
     "output_type": "execute_result"
    }
   ],
   "source": [
    "all_periods['days_up'] = all_periods['date_to'].dt.dayofyear - all_periods['date_from'].dt.dayofyear\n",
    "\n",
    "gp = all_periods.groupby(['item_id'])[['days_up']]\n",
    "\n",
    "gp_df = pd.DataFrame()\n",
    "gp_df['days_up_sum'] = gp.sum()['days_up'] # кол-во дней, во время которых item был на продаже\n",
    "gp_df['times_put_up'] = gp.count()['days_up'] # сколько раз item был выложен на продажу\n",
    "gp_df.reset_index(inplace=True)\n",
    "gp_df.rename(index=str, columns={'index': 'item_id'})\n",
    "\n",
    "gp_df.head(3)"
   ]
  },
  {
   "cell_type": "markdown",
   "metadata": {},
   "source": [
    "At this point, we have 2 scalars associated with every `item_id` appearing in train and test periods. We can now savely drop the duplicate item IDs in the `all_periods` dataframe and merge the features back into `all_periods`."
   ]
  },
  {
   "cell_type": "code",
   "execution_count": 12,
   "metadata": {},
   "outputs": [
    {
     "data": {
      "text/plain": [
       "307"
      ]
     },
     "execution_count": 12,
     "metadata": {},
     "output_type": "execute_result"
    }
   ],
   "source": [
    "all_periods.drop_duplicates(['item_id'], inplace=True)\n",
    "all_periods = all_periods.merge(gp_df, on='item_id', how='left')\n",
    "\n",
    "del gp, gp_df\n",
    "gc.collect()"
   ]
  },
  {
   "cell_type": "code",
   "execution_count": 13,
   "metadata": {},
   "outputs": [
    {
     "data": {
      "text/html": [
       "<div>\n",
       "<style>\n",
       "    .dataframe thead tr:only-child th {\n",
       "        text-align: right;\n",
       "    }\n",
       "\n",
       "    .dataframe thead th {\n",
       "        text-align: left;\n",
       "    }\n",
       "\n",
       "    .dataframe tbody tr th {\n",
       "        vertical-align: top;\n",
       "    }\n",
       "</style>\n",
       "<table border=\"1\" class=\"dataframe\">\n",
       "  <thead>\n",
       "    <tr style=\"text-align: right;\">\n",
       "      <th></th>\n",
       "      <th>item_id</th>\n",
       "      <th>activation_date</th>\n",
       "      <th>date_from</th>\n",
       "      <th>date_to</th>\n",
       "      <th>days_up</th>\n",
       "      <th>days_up_sum</th>\n",
       "      <th>times_put_up</th>\n",
       "    </tr>\n",
       "  </thead>\n",
       "  <tbody>\n",
       "    <tr>\n",
       "      <th>0</th>\n",
       "      <td>8f5caef7afb0</td>\n",
       "      <td>2017-02-14</td>\n",
       "      <td>2017-03-15</td>\n",
       "      <td>2017-03-16</td>\n",
       "      <td>1</td>\n",
       "      <td>17</td>\n",
       "      <td>4</td>\n",
       "    </tr>\n",
       "    <tr>\n",
       "      <th>1</th>\n",
       "      <td>66218ff526d1</td>\n",
       "      <td>2017-02-16</td>\n",
       "      <td>2017-03-15</td>\n",
       "      <td>2017-03-18</td>\n",
       "      <td>3</td>\n",
       "      <td>18</td>\n",
       "      <td>3</td>\n",
       "    </tr>\n",
       "    <tr>\n",
       "      <th>2</th>\n",
       "      <td>b237d9539b21</td>\n",
       "      <td>2017-03-01</td>\n",
       "      <td>2017-03-15</td>\n",
       "      <td>2017-03-28</td>\n",
       "      <td>13</td>\n",
       "      <td>19</td>\n",
       "      <td>2</td>\n",
       "    </tr>\n",
       "  </tbody>\n",
       "</table>\n",
       "</div>"
      ],
      "text/plain": [
       "        item_id activation_date  date_from    date_to  days_up  days_up_sum  \\\n",
       "0  8f5caef7afb0      2017-02-14 2017-03-15 2017-03-16        1           17   \n",
       "1  66218ff526d1      2017-02-16 2017-03-15 2017-03-18        3           18   \n",
       "2  b237d9539b21      2017-03-01 2017-03-15 2017-03-28       13           19   \n",
       "\n",
       "   times_put_up  \n",
       "0             4  \n",
       "1             3  \n",
       "2             2  "
      ]
     },
     "execution_count": 13,
     "metadata": {},
     "output_type": "execute_result"
    }
   ],
   "source": [
    "all_periods.head(3)"
   ]
  },
  {
   "cell_type": "markdown",
   "metadata": {},
   "source": [
    "We have an interesting but kind of useless feature now. As seen in the second venn diagram(EDA FILE), there is no overlap at all between `train_active` (and with that `train_periods`) and `train` concerning *item* IDs. For the feature to become useful, we somehow have to associate an item ID with a user ID.\n",
    "\n",
    "So the next step is to merge `all_samples` into `all_periods`. This will get us a user ID for every item ID in the periods dataframes. Now there is an overlap!"
   ]
  },
  {
   "cell_type": "code",
   "execution_count": 14,
   "metadata": {
    "collapsed": true
   },
   "outputs": [],
   "source": [
    "all_periods = all_periods.merge(all_samples, on='item_id', how='left')"
   ]
  },
  {
   "cell_type": "markdown",
   "metadata": {},
   "source": [
    "- The next problem is that there are multiple features for a user if that user has put up more than one item that appears in `train_active` / `test_active`. We will have to somehow reduce this to one feature.\n",
    "- And for our last feature, `n_user_items`, we just group by user ID and count the number of items. We have to be careful to use `all_samples` instead of `all_periods` here because the latter does not contain the `train.csv` and `test.csv` samples."
   ]
  },
  {
   "cell_type": "code",
   "execution_count": 15,
   "metadata": {
    "collapsed": true
   },
   "outputs": [],
   "source": [
    "gp = all_periods.groupby(['user_id'])[['days_up_sum', 'times_put_up']].mean().reset_index() \\\n",
    "    .rename(index=str, columns={\n",
    "        'days_up_sum': 'avg_days_up_user',\n",
    "        'times_put_up': 'avg_times_up_user'\n",
    "    })\n",
    "    \n",
    "n_user_items = all_samples.groupby(['user_id'])[['item_id']].count().reset_index() \\\n",
    "    .rename(index=str, columns={\n",
    "        'item_id': 'n_user_items'\n",
    "    })\n",
    "    \n",
    "gp = gp.merge(n_user_items, on='user_id', how='left')"
   ]
  },
  {
   "cell_type": "code",
   "execution_count": 16,
   "metadata": {
    "collapsed": true
   },
   "outputs": [],
   "source": [
    "agg_cols = ['avg_days_up_user', 'avg_times_up_user', 'n_user_items']\n",
    "for col in agg_cols:\n",
    "        gp[col].fillna(-1, inplace=True)"
   ]
  },
  {
   "cell_type": "code",
   "execution_count": 17,
   "metadata": {
    "scrolled": true
   },
   "outputs": [
    {
     "data": {
      "text/html": [
       "<div>\n",
       "<style>\n",
       "    .dataframe thead tr:only-child th {\n",
       "        text-align: right;\n",
       "    }\n",
       "\n",
       "    .dataframe thead th {\n",
       "        text-align: left;\n",
       "    }\n",
       "\n",
       "    .dataframe tbody tr th {\n",
       "        vertical-align: top;\n",
       "    }\n",
       "</style>\n",
       "<table border=\"1\" class=\"dataframe\">\n",
       "  <thead>\n",
       "    <tr style=\"text-align: right;\">\n",
       "      <th></th>\n",
       "      <th>user_id</th>\n",
       "      <th>avg_days_up_user</th>\n",
       "      <th>avg_times_up_user</th>\n",
       "      <th>n_user_items</th>\n",
       "    </tr>\n",
       "  </thead>\n",
       "  <tbody>\n",
       "    <tr>\n",
       "      <th>0</th>\n",
       "      <td>00000077ff21</td>\n",
       "      <td>12.5</td>\n",
       "      <td>2.0</td>\n",
       "      <td>2</td>\n",
       "    </tr>\n",
       "    <tr>\n",
       "      <th>1</th>\n",
       "      <td>000006497719</td>\n",
       "      <td>19.0</td>\n",
       "      <td>2.0</td>\n",
       "      <td>1</td>\n",
       "    </tr>\n",
       "    <tr>\n",
       "      <th>2</th>\n",
       "      <td>00000b4d72f6</td>\n",
       "      <td>3.0</td>\n",
       "      <td>1.0</td>\n",
       "      <td>1</td>\n",
       "    </tr>\n",
       "  </tbody>\n",
       "</table>\n",
       "</div>"
      ],
      "text/plain": [
       "        user_id  avg_days_up_user  avg_times_up_user  n_user_items\n",
       "0  00000077ff21              12.5                2.0             2\n",
       "1  000006497719              19.0                2.0             1\n",
       "2  00000b4d72f6               3.0                1.0             1"
      ]
     },
     "execution_count": 17,
     "metadata": {},
     "output_type": "execute_result"
    }
   ],
   "source": [
    "gp.head(3)"
   ]
  },
  {
   "cell_type": "code",
   "execution_count": null,
   "metadata": {
    "collapsed": true
   },
   "outputs": [],
   "source": [
    "del all_samples, all_periods, train, test\n",
    "gc.collect()"
   ]
  },
  {
   "cell_type": "code",
   "execution_count": null,
   "metadata": {
    "collapsed": true
   },
   "outputs": [],
   "source": [
    "# Final merge for 3 new features\n",
    "train = pd.read_csv(os.path.join(PATH_TO_DATA, 'train_all_features.csv'))\n",
    "test = pd.read_csv(os.path.join(PATH_TO_DATA, 'test_all_features.csv'))\n",
    "\n",
    "train = train.merge(gp, on='user_id', how='left')\n",
    "test = test.merge(gp, on='user_id', how='left')\n",
    "\n",
    "del gp\n",
    "gc.collect()"
   ]
  },
  {
   "cell_type": "code",
   "execution_count": 32,
   "metadata": {
    "collapsed": true
   },
   "outputs": [],
   "source": [
    "# [DUMP] TRAIN + TEST\n",
    "train.to_csv(os.path.join(PATH_TO_DATA, 'train_all_features.csv'), index=False, encoding='utf-8')\n",
    "test.to_csv(os.path.join(PATH_TO_DATA, 'test_all_features.csv'), index=False, encoding='utf-8')"
   ]
  },
  {
   "cell_type": "code",
   "execution_count": null,
   "metadata": {
    "collapsed": true
   },
   "outputs": [],
   "source": [
    "del train, test\n",
    "gc.collect()"
   ]
  },
  {
   "cell_type": "markdown",
   "metadata": {},
   "source": [
    "# ADD Image Features"
   ]
  },
  {
   "cell_type": "markdown",
   "metadata": {},
   "source": [
    "Here I just added new features based on the images. My teammate got them using the ResNet, MobileNet, NasNet, and some other scripts. Thank you, Andrew (https://github.com/Erlemar)"
   ]
  },
  {
   "cell_type": "code",
   "execution_count": 23,
   "metadata": {
    "collapsed": true
   },
   "outputs": [],
   "source": [
    "train = pd.read_csv(os.path.join(PATH_TO_DATA, 'train_all_features.csv'))\n",
    "test = pd.read_csv(os.path.join(PATH_TO_DATA, 'test_all_features.csv'))\n",
    "\n",
    "# RESNET features\n",
    "train_resnet = pd.read_csv(os.path.join(PATH_TO_DATA, 'resnet_scores_train_fixed.csv'))\n",
    "test_resnet = pd.read_csv(os.path.join(PATH_TO_DATA, 'resnet_scores_test_fixed.csv'))"
   ]
  },
  {
   "cell_type": "code",
   "execution_count": 24,
   "metadata": {
    "collapsed": true
   },
   "outputs": [],
   "source": [
    "for df in [train_resnet, test_resnet]:\n",
    "    df.drop(['Unnamed: 0', 'Unnamed: 0.1', 'image'], axis=1, inplace=True)\n",
    "    df['resnet_nima_std'] = df.drop('item_id', axis=1).std(axis=1)\n",
    "    df['resnet_nima_mean'] = df.drop('item_id', axis=1).mean(axis=1)\n",
    "    df.fillna(0, inplace=True)"
   ]
  },
  {
   "cell_type": "code",
   "execution_count": 25,
   "metadata": {
    "scrolled": true
   },
   "outputs": [
    {
     "data": {
      "text/html": [
       "<div>\n",
       "<style>\n",
       "    .dataframe thead tr:only-child th {\n",
       "        text-align: right;\n",
       "    }\n",
       "\n",
       "    .dataframe thead th {\n",
       "        text-align: left;\n",
       "    }\n",
       "\n",
       "    .dataframe tbody tr th {\n",
       "        vertical-align: top;\n",
       "    }\n",
       "</style>\n",
       "<table border=\"1\" class=\"dataframe\">\n",
       "  <thead>\n",
       "    <tr style=\"text-align: right;\">\n",
       "      <th></th>\n",
       "      <th>item_id</th>\n",
       "      <th>resnet_nima_feature_0</th>\n",
       "      <th>resnet_nima_feature_1</th>\n",
       "      <th>resnet_nima_feature_2</th>\n",
       "      <th>resnet_nima_feature_3</th>\n",
       "      <th>resnet_nima_feature_4</th>\n",
       "      <th>resnet_nima_feature_5</th>\n",
       "      <th>resnet_nima_feature_6</th>\n",
       "      <th>resnet_nima_feature_7</th>\n",
       "      <th>resnet_nima_feature_8</th>\n",
       "      <th>resnet_nima_feature_9</th>\n",
       "      <th>resnet_nima_std</th>\n",
       "      <th>resnet_nima_mean</th>\n",
       "    </tr>\n",
       "  </thead>\n",
       "  <tbody>\n",
       "    <tr>\n",
       "      <th>0</th>\n",
       "      <td>b912c3c6a6ad</td>\n",
       "      <td>0.030471</td>\n",
       "      <td>0.128745</td>\n",
       "      <td>0.417013</td>\n",
       "      <td>1.057854</td>\n",
       "      <td>1.409388</td>\n",
       "      <td>0.795774</td>\n",
       "      <td>0.369102</td>\n",
       "      <td>0.184106</td>\n",
       "      <td>0.068817</td>\n",
       "      <td>0.037933</td>\n",
       "      <td>0.480984</td>\n",
       "      <td>0.452744</td>\n",
       "    </tr>\n",
       "    <tr>\n",
       "      <th>1</th>\n",
       "      <td>2dac0150717d</td>\n",
       "      <td>0.007352</td>\n",
       "      <td>0.045739</td>\n",
       "      <td>0.192428</td>\n",
       "      <td>0.707258</td>\n",
       "      <td>1.651098</td>\n",
       "      <td>1.382824</td>\n",
       "      <td>0.705383</td>\n",
       "      <td>0.350698</td>\n",
       "      <td>0.143066</td>\n",
       "      <td>0.076292</td>\n",
       "      <td>0.582671</td>\n",
       "      <td>0.531346</td>\n",
       "    </tr>\n",
       "    <tr>\n",
       "      <th>2</th>\n",
       "      <td>ba83aefab5dc</td>\n",
       "      <td>0.004421</td>\n",
       "      <td>0.027884</td>\n",
       "      <td>0.133923</td>\n",
       "      <td>0.520073</td>\n",
       "      <td>1.510818</td>\n",
       "      <td>1.612786</td>\n",
       "      <td>0.934561</td>\n",
       "      <td>0.501877</td>\n",
       "      <td>0.231114</td>\n",
       "      <td>0.140938</td>\n",
       "      <td>0.597661</td>\n",
       "      <td>0.565096</td>\n",
       "    </tr>\n",
       "  </tbody>\n",
       "</table>\n",
       "</div>"
      ],
      "text/plain": [
       "        item_id  resnet_nima_feature_0  resnet_nima_feature_1  \\\n",
       "0  b912c3c6a6ad               0.030471               0.128745   \n",
       "1  2dac0150717d               0.007352               0.045739   \n",
       "2  ba83aefab5dc               0.004421               0.027884   \n",
       "\n",
       "   resnet_nima_feature_2  resnet_nima_feature_3  resnet_nima_feature_4  \\\n",
       "0               0.417013               1.057854               1.409388   \n",
       "1               0.192428               0.707258               1.651098   \n",
       "2               0.133923               0.520073               1.510818   \n",
       "\n",
       "   resnet_nima_feature_5  resnet_nima_feature_6  resnet_nima_feature_7  \\\n",
       "0               0.795774               0.369102               0.184106   \n",
       "1               1.382824               0.705383               0.350698   \n",
       "2               1.612786               0.934561               0.501877   \n",
       "\n",
       "   resnet_nima_feature_8  resnet_nima_feature_9  resnet_nima_std  \\\n",
       "0               0.068817               0.037933         0.480984   \n",
       "1               0.143066               0.076292         0.582671   \n",
       "2               0.231114               0.140938         0.597661   \n",
       "\n",
       "   resnet_nima_mean  \n",
       "0          0.452744  \n",
       "1          0.531346  \n",
       "2          0.565096  "
      ]
     },
     "execution_count": 25,
     "metadata": {},
     "output_type": "execute_result"
    }
   ],
   "source": [
    "train_resnet.head(3)"
   ]
  },
  {
   "cell_type": "code",
   "execution_count": 28,
   "metadata": {
    "collapsed": true
   },
   "outputs": [],
   "source": [
    "train = train.merge(train_resnet, on='item_id', how='left')\n",
    "test = test.merge(test_resnet, on='item_id', how='left')\n",
    "del train_resnet, test_resnet\n",
    "gc.collect()"
   ]
  },
  {
   "cell_type": "code",
   "execution_count": 9,
   "metadata": {
    "collapsed": true
   },
   "outputs": [],
   "source": [
    "#img_size, RGB mean/std\n",
    "train_images = pd.read_csv(os.path.join(PATH_TO_DATA, 'train_img_features_v1.csv'))\n",
    "test_images = pd.read_csv(os.path.join(PATH_TO_DATA, 'test_img_features_v1.csv'))"
   ]
  },
  {
   "cell_type": "code",
   "execution_count": 10,
   "metadata": {},
   "outputs": [
    {
     "data": {
      "text/html": [
       "<div>\n",
       "<style>\n",
       "    .dataframe thead tr:only-child th {\n",
       "        text-align: right;\n",
       "    }\n",
       "\n",
       "    .dataframe thead th {\n",
       "        text-align: left;\n",
       "    }\n",
       "\n",
       "    .dataframe tbody tr th {\n",
       "        vertical-align: top;\n",
       "    }\n",
       "</style>\n",
       "<table border=\"1\" class=\"dataframe\">\n",
       "  <thead>\n",
       "    <tr style=\"text-align: right;\">\n",
       "      <th></th>\n",
       "      <th>item_id</th>\n",
       "      <th>image</th>\n",
       "      <th>img_size_x</th>\n",
       "      <th>img_size_y</th>\n",
       "      <th>img_mean_color</th>\n",
       "      <th>img_std_color</th>\n",
       "      <th>img_blue_mean</th>\n",
       "      <th>img_green_mean</th>\n",
       "      <th>img_red_mean</th>\n",
       "      <th>img_blue_std</th>\n",
       "      <th>image_green_std</th>\n",
       "      <th>image_red_std</th>\n",
       "    </tr>\n",
       "  </thead>\n",
       "  <tbody>\n",
       "    <tr>\n",
       "      <th>0</th>\n",
       "      <td>b912c3c6a6ad</td>\n",
       "      <td>d10c7e016e03247a3bf2d13348fe959fe6f436c1caf64c...</td>\n",
       "      <td>358.0</td>\n",
       "      <td>480.0</td>\n",
       "      <td>109.999181</td>\n",
       "      <td>74.381019</td>\n",
       "      <td>92.047311</td>\n",
       "      <td>81.673557</td>\n",
       "      <td>156.276676</td>\n",
       "      <td>68.322964</td>\n",
       "      <td>73.031863</td>\n",
       "      <td>57.703642</td>\n",
       "    </tr>\n",
       "    <tr>\n",
       "      <th>1</th>\n",
       "      <td>2dac0150717d</td>\n",
       "      <td>79c9392cc51a9c81c6eb91eceb8e552171db39d7142700...</td>\n",
       "      <td>360.0</td>\n",
       "      <td>480.0</td>\n",
       "      <td>92.326935</td>\n",
       "      <td>61.925344</td>\n",
       "      <td>75.835208</td>\n",
       "      <td>93.478848</td>\n",
       "      <td>107.666748</td>\n",
       "      <td>64.132318</td>\n",
       "      <td>59.599434</td>\n",
       "      <td>57.711213</td>\n",
       "    </tr>\n",
       "    <tr>\n",
       "      <th>2</th>\n",
       "      <td>ba83aefab5dc</td>\n",
       "      <td>b7f250ee3f39e1fedd77c141f273703f4a9be59db4b48a...</td>\n",
       "      <td>392.0</td>\n",
       "      <td>360.0</td>\n",
       "      <td>179.391220</td>\n",
       "      <td>96.180765</td>\n",
       "      <td>179.351410</td>\n",
       "      <td>179.410565</td>\n",
       "      <td>179.411685</td>\n",
       "      <td>96.221609</td>\n",
       "      <td>96.163812</td>\n",
       "      <td>96.156849</td>\n",
       "    </tr>\n",
       "  </tbody>\n",
       "</table>\n",
       "</div>"
      ],
      "text/plain": [
       "        item_id                                              image  \\\n",
       "0  b912c3c6a6ad  d10c7e016e03247a3bf2d13348fe959fe6f436c1caf64c...   \n",
       "1  2dac0150717d  79c9392cc51a9c81c6eb91eceb8e552171db39d7142700...   \n",
       "2  ba83aefab5dc  b7f250ee3f39e1fedd77c141f273703f4a9be59db4b48a...   \n",
       "\n",
       "   img_size_x  img_size_y  img_mean_color  img_std_color  img_blue_mean  \\\n",
       "0       358.0       480.0      109.999181      74.381019      92.047311   \n",
       "1       360.0       480.0       92.326935      61.925344      75.835208   \n",
       "2       392.0       360.0      179.391220      96.180765     179.351410   \n",
       "\n",
       "   img_green_mean  img_red_mean  img_blue_std  image_green_std  image_red_std  \n",
       "0       81.673557    156.276676     68.322964        73.031863      57.703642  \n",
       "1       93.478848    107.666748     64.132318        59.599434      57.711213  \n",
       "2      179.410565    179.411685     96.221609        96.163812      96.156849  "
      ]
     },
     "execution_count": 10,
     "metadata": {},
     "output_type": "execute_result"
    }
   ],
   "source": [
    "train_images.head(3)"
   ]
  },
  {
   "cell_type": "code",
   "execution_count": 12,
   "metadata": {},
   "outputs": [
    {
     "data": {
      "text/plain": [
       "128"
      ]
     },
     "execution_count": 12,
     "metadata": {},
     "output_type": "execute_result"
    }
   ],
   "source": [
    "for df in [train_images, test_images]:\n",
    "    df.drop('image', axis=1, inplace=True)\n",
    "    df['img_size_xy'] = df['img_size_x'] * df['img_size_y']\n",
    "\n",
    "train = train.merge(train_images, on='item_id', how='left')\n",
    "test = test.merge(test_images, on='item_id', how='left')\n",
    "del train, test, train_images, test_images, df\n",
    "gc.collect()"
   ]
  },
  {
   "cell_type": "markdown",
   "metadata": {},
   "source": [
    "# Training LBGM"
   ]
  },
  {
   "cell_type": "markdown",
   "metadata": {},
   "source": [
    "In this competition among the XGBoost, LGBM and CatBoost, the best quality was shown by the LGMB. So for my best solo model I used LGBM"
   ]
  },
  {
   "cell_type": "code",
   "execution_count": 3,
   "metadata": {
    "collapsed": true
   },
   "outputs": [],
   "source": [
    "# [LOAD] TRAIN + TEST + TF-IDF pickle files + vocabulary\n",
    "with open(os.path.join(PATH_TO_DATA, 'train_tfidf.pkl'), 'rb') as train_tfidf_pkl:\n",
    "    train_tfidf = pickle.load(train_tfidf_pkl)\n",
    "with open(os.path.join(PATH_TO_DATA, 'test_tfidf.pkl'), 'rb') as test_tfidf_pkl:\n",
    "    test_tfidf = pickle.load(test_tfidf_pkl)\n",
    "with open(os.path.join(PATH_TO_DATA, 'vocab.pkl'), 'rb') as tf_vocab_pkl:\n",
    "    tf_vocab = pickle.load(tf_vocab_pkl)\n",
    "    \n",
    "train = pd.read_csv(os.path.join(PATH_TO_DATA, 'train_all_features.csv'))\n",
    "test = pd.read_csv(os.path.join(PATH_TO_DATA, 'test_all_features.csv'))"
   ]
  },
  {
   "cell_type": "markdown",
   "metadata": {},
   "source": [
    "The entire matrix isn't stored in memory so I only used the matrices of the fields `title` and `description`. On the rest of the text I left only SVD components"
   ]
  },
  {
   "cell_type": "code",
   "execution_count": 4,
   "metadata": {
    "collapsed": true
   },
   "outputs": [],
   "source": [
    "train_tfidf = train_tfidf[:, :-17000]\n",
    "test_tfidf = test_tfidf[:, :-17000]\n",
    "tf_vocab = tf_vocab[:-17000]"
   ]
  },
  {
   "cell_type": "code",
   "execution_count": 18,
   "metadata": {
    "scrolled": true
   },
   "outputs": [
    {
     "data": {
      "text/html": [
       "<div>\n",
       "<style>\n",
       "    .dataframe thead tr:only-child th {\n",
       "        text-align: right;\n",
       "    }\n",
       "\n",
       "    .dataframe thead th {\n",
       "        text-align: left;\n",
       "    }\n",
       "\n",
       "    .dataframe tbody tr th {\n",
       "        vertical-align: top;\n",
       "    }\n",
       "</style>\n",
       "<table border=\"1\" class=\"dataframe\">\n",
       "  <thead>\n",
       "    <tr style=\"text-align: right;\">\n",
       "      <th></th>\n",
       "      <th>item_id</th>\n",
       "      <th>user_id</th>\n",
       "      <th>region</th>\n",
       "      <th>city</th>\n",
       "      <th>parent_category_name</th>\n",
       "      <th>category_name</th>\n",
       "      <th>param_1</th>\n",
       "      <th>param_2</th>\n",
       "      <th>param_3</th>\n",
       "      <th>price</th>\n",
       "      <th>item_seq_number</th>\n",
       "      <th>activation_date</th>\n",
       "      <th>user_type</th>\n",
       "      <th>image</th>\n",
       "      <th>image_top_1</th>\n",
       "      <th>deal_probability</th>\n",
       "      <th>avg_days_up_user</th>\n",
       "      <th>avg_times_up_user</th>\n",
       "      <th>n_user_items</th>\n",
       "      <th>num_desc_punct</th>\n",
       "      <th>num_words_description</th>\n",
       "      <th>num_unique_words_description</th>\n",
       "      <th>num_words_title</th>\n",
       "      <th>num_unique_words_title</th>\n",
       "      <th>words_vs_unique_title</th>\n",
       "      <th>words_vs_unique_description</th>\n",
       "      <th>title_stemm</th>\n",
       "      <th>description_stemm</th>\n",
       "      <th>svd_title_1</th>\n",
       "      <th>svd_title_2</th>\n",
       "      <th>svd_title_3</th>\n",
       "      <th>svd_title_4</th>\n",
       "      <th>svd_title_5</th>\n",
       "      <th>svd_title_6</th>\n",
       "      <th>svd_title_7</th>\n",
       "      <th>svd_title_8</th>\n",
       "      <th>svd_title_9</th>\n",
       "      <th>svd_title_10</th>\n",
       "      <th>svd_description_1</th>\n",
       "      <th>svd_description_2</th>\n",
       "      <th>svd_description_3</th>\n",
       "      <th>svd_description_4</th>\n",
       "      <th>svd_description_5</th>\n",
       "      <th>svd_description_6</th>\n",
       "      <th>svd_description_7</th>\n",
       "      <th>svd_description_8</th>\n",
       "      <th>svd_description_9</th>\n",
       "      <th>svd_description_10</th>\n",
       "      <th>text_stemm</th>\n",
       "      <th>svd_text_1</th>\n",
       "      <th>svd_text_2</th>\n",
       "      <th>svd_text_3</th>\n",
       "      <th>svd_text_4</th>\n",
       "      <th>svd_text_5</th>\n",
       "      <th>svd_text_6</th>\n",
       "      <th>svd_text_7</th>\n",
       "      <th>svd_text_8</th>\n",
       "      <th>svd_text_9</th>\n",
       "      <th>svd_text_10</th>\n",
       "      <th>categorical_come_in</th>\n",
       "      <th>params</th>\n",
       "      <th>img_size_x</th>\n",
       "      <th>img_size_y</th>\n",
       "      <th>img_mean_color</th>\n",
       "      <th>img_std_color</th>\n",
       "      <th>img_blue_mean</th>\n",
       "      <th>img_green_mean</th>\n",
       "      <th>img_red_mean</th>\n",
       "      <th>img_blue_std</th>\n",
       "      <th>image_green_std</th>\n",
       "      <th>image_red_std</th>\n",
       "      <th>img_size_xy</th>\n",
       "      <th>resnet_nima_feature_0</th>\n",
       "      <th>resnet_nima_feature_1</th>\n",
       "      <th>resnet_nima_feature_2</th>\n",
       "      <th>resnet_nima_feature_3</th>\n",
       "      <th>resnet_nima_feature_4</th>\n",
       "      <th>resnet_nima_feature_5</th>\n",
       "      <th>resnet_nima_feature_6</th>\n",
       "      <th>resnet_nima_feature_7</th>\n",
       "      <th>resnet_nima_feature_8</th>\n",
       "      <th>resnet_nima_feature_9</th>\n",
       "      <th>resnet_nima_std</th>\n",
       "      <th>resnet_nima_mean</th>\n",
       "    </tr>\n",
       "  </thead>\n",
       "  <tbody>\n",
       "    <tr>\n",
       "      <th>0</th>\n",
       "      <td>b912c3c6a6ad</td>\n",
       "      <td>e00f8ff2eaf9</td>\n",
       "      <td>19</td>\n",
       "      <td>1313</td>\n",
       "      <td>4</td>\n",
       "      <td>42</td>\n",
       "      <td>249</td>\n",
       "      <td>112</td>\n",
       "      <td>1216</td>\n",
       "      <td>400.0</td>\n",
       "      <td>2</td>\n",
       "      <td>2017-03-28</td>\n",
       "      <td>1</td>\n",
       "      <td>d10c7e016e03247a3bf2d13348fe959fe6f436c1caf64c...</td>\n",
       "      <td>12</td>\n",
       "      <td>0.12789</td>\n",
       "      <td>8.000000</td>\n",
       "      <td>2.000000</td>\n",
       "      <td>2</td>\n",
       "      <td>0.034483</td>\n",
       "      <td>8</td>\n",
       "      <td>8</td>\n",
       "      <td>4</td>\n",
       "      <td>4</td>\n",
       "      <td>100.0</td>\n",
       "      <td>100.0</td>\n",
       "      <td>кокоб кокон для сна</td>\n",
       "      <td>кокон для сна малыша,пользова меньш месяц цвет...</td>\n",
       "      <td>0.000009</td>\n",
       "      <td>0.000007</td>\n",
       "      <td>0.000391</td>\n",
       "      <td>-0.000008</td>\n",
       "      <td>0.000097</td>\n",
       "      <td>-0.000016</td>\n",
       "      <td>0.000003</td>\n",
       "      <td>-0.000185</td>\n",
       "      <td>-0.000011</td>\n",
       "      <td>0.000087</td>\n",
       "      <td>9.558496e-07</td>\n",
       "      <td>0.020553</td>\n",
       "      <td>0.023893</td>\n",
       "      <td>-0.002497</td>\n",
       "      <td>-0.027351</td>\n",
       "      <td>0.012651</td>\n",
       "      <td>-0.021217</td>\n",
       "      <td>0.004744</td>\n",
       "      <td>0.005438</td>\n",
       "      <td>-0.008432</td>\n",
       "      <td>постельн принадлежн na na екатеринбург товар д...</td>\n",
       "      <td>0.228211</td>\n",
       "      <td>0.350972</td>\n",
       "      <td>0.043046</td>\n",
       "      <td>0.370067</td>\n",
       "      <td>-0.070709</td>\n",
       "      <td>0.008977</td>\n",
       "      <td>0.005526</td>\n",
       "      <td>-0.022634</td>\n",
       "      <td>-0.020462</td>\n",
       "      <td>0.008227</td>\n",
       "      <td>4778</td>\n",
       "      <td>829</td>\n",
       "      <td>358.0</td>\n",
       "      <td>480.0</td>\n",
       "      <td>109.999181</td>\n",
       "      <td>74.381019</td>\n",
       "      <td>92.047311</td>\n",
       "      <td>81.673557</td>\n",
       "      <td>156.276676</td>\n",
       "      <td>68.322964</td>\n",
       "      <td>73.031863</td>\n",
       "      <td>57.703642</td>\n",
       "      <td>171840.0</td>\n",
       "      <td>0.030471</td>\n",
       "      <td>0.128745</td>\n",
       "      <td>0.417013</td>\n",
       "      <td>1.057854</td>\n",
       "      <td>1.409388</td>\n",
       "      <td>0.795774</td>\n",
       "      <td>0.369102</td>\n",
       "      <td>0.184106</td>\n",
       "      <td>0.068817</td>\n",
       "      <td>0.037933</td>\n",
       "      <td>0.480984</td>\n",
       "      <td>0.452744</td>\n",
       "    </tr>\n",
       "    <tr>\n",
       "      <th>1</th>\n",
       "      <td>2dac0150717d</td>\n",
       "      <td>39aeb48f0017</td>\n",
       "      <td>17</td>\n",
       "      <td>1233</td>\n",
       "      <td>2</td>\n",
       "      <td>22</td>\n",
       "      <td>122</td>\n",
       "      <td>112</td>\n",
       "      <td>1216</td>\n",
       "      <td>3000.0</td>\n",
       "      <td>19</td>\n",
       "      <td>2017-03-26</td>\n",
       "      <td>1</td>\n",
       "      <td>79c9392cc51a9c81c6eb91eceb8e552171db39d7142700...</td>\n",
       "      <td>2722</td>\n",
       "      <td>0.00000</td>\n",
       "      <td>-1.000000</td>\n",
       "      <td>-1.000000</td>\n",
       "      <td>1</td>\n",
       "      <td>0.073171</td>\n",
       "      <td>7</td>\n",
       "      <td>7</td>\n",
       "      <td>3</td>\n",
       "      <td>3</td>\n",
       "      <td>100.0</td>\n",
       "      <td>100.0</td>\n",
       "      <td>стойк для одежд</td>\n",
       "      <td>стойк для одежды, под вешалк с бутик</td>\n",
       "      <td>0.000587</td>\n",
       "      <td>-0.000272</td>\n",
       "      <td>0.007524</td>\n",
       "      <td>-0.000304</td>\n",
       "      <td>-0.001075</td>\n",
       "      <td>0.001100</td>\n",
       "      <td>0.000351</td>\n",
       "      <td>-0.001305</td>\n",
       "      <td>0.008809</td>\n",
       "      <td>0.007706</td>\n",
       "      <td>4.489017e-07</td>\n",
       "      <td>0.002154</td>\n",
       "      <td>0.002740</td>\n",
       "      <td>-0.000388</td>\n",
       "      <td>-0.003285</td>\n",
       "      <td>-0.000029</td>\n",
       "      <td>-0.001379</td>\n",
       "      <td>-0.000057</td>\n",
       "      <td>0.000519</td>\n",
       "      <td>-0.000023</td>\n",
       "      <td>друг na na самар мебел и интерьер для дом и дач</td>\n",
       "      <td>0.130641</td>\n",
       "      <td>0.342396</td>\n",
       "      <td>-0.056600</td>\n",
       "      <td>-0.278212</td>\n",
       "      <td>-0.198494</td>\n",
       "      <td>-0.048847</td>\n",
       "      <td>-0.247062</td>\n",
       "      <td>0.145076</td>\n",
       "      <td>0.236535</td>\n",
       "      <td>0.052834</td>\n",
       "      <td>825234</td>\n",
       "      <td>306</td>\n",
       "      <td>360.0</td>\n",
       "      <td>480.0</td>\n",
       "      <td>92.326935</td>\n",
       "      <td>61.925344</td>\n",
       "      <td>75.835208</td>\n",
       "      <td>93.478848</td>\n",
       "      <td>107.666748</td>\n",
       "      <td>64.132318</td>\n",
       "      <td>59.599434</td>\n",
       "      <td>57.711213</td>\n",
       "      <td>172800.0</td>\n",
       "      <td>0.007352</td>\n",
       "      <td>0.045739</td>\n",
       "      <td>0.192428</td>\n",
       "      <td>0.707258</td>\n",
       "      <td>1.651098</td>\n",
       "      <td>1.382824</td>\n",
       "      <td>0.705383</td>\n",
       "      <td>0.350698</td>\n",
       "      <td>0.143066</td>\n",
       "      <td>0.076292</td>\n",
       "      <td>0.582671</td>\n",
       "      <td>0.531346</td>\n",
       "    </tr>\n",
       "    <tr>\n",
       "      <th>2</th>\n",
       "      <td>ba83aefab5dc</td>\n",
       "      <td>91e2f88dd6e3</td>\n",
       "      <td>16</td>\n",
       "      <td>1172</td>\n",
       "      <td>0</td>\n",
       "      <td>2</td>\n",
       "      <td>85</td>\n",
       "      <td>112</td>\n",
       "      <td>1216</td>\n",
       "      <td>4000.0</td>\n",
       "      <td>9</td>\n",
       "      <td>2017-03-20</td>\n",
       "      <td>1</td>\n",
       "      <td>b7f250ee3f39e1fedd77c141f273703f4a9be59db4b48a...</td>\n",
       "      <td>2259</td>\n",
       "      <td>0.43177</td>\n",
       "      <td>4.428571</td>\n",
       "      <td>1.142857</td>\n",
       "      <td>9</td>\n",
       "      <td>0.050505</td>\n",
       "      <td>16</td>\n",
       "      <td>16</td>\n",
       "      <td>2</td>\n",
       "      <td>2</td>\n",
       "      <td>100.0</td>\n",
       "      <td>100.0</td>\n",
       "      <td>Philips blura</td>\n",
       "      <td>в хорош состоянии, домашн кинотеатр с blu ray,...</td>\n",
       "      <td>0.000066</td>\n",
       "      <td>-0.000011</td>\n",
       "      <td>0.001475</td>\n",
       "      <td>-0.000078</td>\n",
       "      <td>0.000008</td>\n",
       "      <td>0.000075</td>\n",
       "      <td>-0.000008</td>\n",
       "      <td>-0.000566</td>\n",
       "      <td>-0.000524</td>\n",
       "      <td>0.000228</td>\n",
       "      <td>6.460955e-07</td>\n",
       "      <td>0.093209</td>\n",
       "      <td>-0.006462</td>\n",
       "      <td>-0.068476</td>\n",
       "      <td>-0.063641</td>\n",
       "      <td>-0.005930</td>\n",
       "      <td>0.046418</td>\n",
       "      <td>0.210763</td>\n",
       "      <td>-0.088505</td>\n",
       "      <td>-0.074297</td>\n",
       "      <td>видео, dvd и blu ra плеер na na рост на дон ау...</td>\n",
       "      <td>0.057872</td>\n",
       "      <td>0.147053</td>\n",
       "      <td>-0.028207</td>\n",
       "      <td>-0.062384</td>\n",
       "      <td>0.185797</td>\n",
       "      <td>0.007219</td>\n",
       "      <td>-0.025027</td>\n",
       "      <td>-0.083915</td>\n",
       "      <td>0.002406</td>\n",
       "      <td>0.002587</td>\n",
       "      <td>576179</td>\n",
       "      <td>101</td>\n",
       "      <td>392.0</td>\n",
       "      <td>360.0</td>\n",
       "      <td>179.391220</td>\n",
       "      <td>96.180765</td>\n",
       "      <td>179.351410</td>\n",
       "      <td>179.410565</td>\n",
       "      <td>179.411685</td>\n",
       "      <td>96.221609</td>\n",
       "      <td>96.163812</td>\n",
       "      <td>96.156849</td>\n",
       "      <td>141120.0</td>\n",
       "      <td>0.004421</td>\n",
       "      <td>0.027884</td>\n",
       "      <td>0.133923</td>\n",
       "      <td>0.520073</td>\n",
       "      <td>1.510818</td>\n",
       "      <td>1.612786</td>\n",
       "      <td>0.934561</td>\n",
       "      <td>0.501877</td>\n",
       "      <td>0.231114</td>\n",
       "      <td>0.140938</td>\n",
       "      <td>0.597661</td>\n",
       "      <td>0.565096</td>\n",
       "    </tr>\n",
       "  </tbody>\n",
       "</table>\n",
       "</div>"
      ],
      "text/plain": [
       "        item_id       user_id  region  city  parent_category_name  \\\n",
       "0  b912c3c6a6ad  e00f8ff2eaf9      19  1313                     4   \n",
       "1  2dac0150717d  39aeb48f0017      17  1233                     2   \n",
       "2  ba83aefab5dc  91e2f88dd6e3      16  1172                     0   \n",
       "\n",
       "   category_name  param_1  param_2  param_3   price  item_seq_number  \\\n",
       "0             42      249      112     1216   400.0                2   \n",
       "1             22      122      112     1216  3000.0               19   \n",
       "2              2       85      112     1216  4000.0                9   \n",
       "\n",
       "  activation_date  user_type  \\\n",
       "0      2017-03-28          1   \n",
       "1      2017-03-26          1   \n",
       "2      2017-03-20          1   \n",
       "\n",
       "                                               image  image_top_1  \\\n",
       "0  d10c7e016e03247a3bf2d13348fe959fe6f436c1caf64c...           12   \n",
       "1  79c9392cc51a9c81c6eb91eceb8e552171db39d7142700...         2722   \n",
       "2  b7f250ee3f39e1fedd77c141f273703f4a9be59db4b48a...         2259   \n",
       "\n",
       "   deal_probability  avg_days_up_user  avg_times_up_user  n_user_items  \\\n",
       "0           0.12789          8.000000           2.000000             2   \n",
       "1           0.00000         -1.000000          -1.000000             1   \n",
       "2           0.43177          4.428571           1.142857             9   \n",
       "\n",
       "   num_desc_punct  num_words_description  num_unique_words_description  \\\n",
       "0        0.034483                      8                             8   \n",
       "1        0.073171                      7                             7   \n",
       "2        0.050505                     16                            16   \n",
       "\n",
       "   num_words_title  num_unique_words_title  words_vs_unique_title  \\\n",
       "0                4                       4                  100.0   \n",
       "1                3                       3                  100.0   \n",
       "2                2                       2                  100.0   \n",
       "\n",
       "   words_vs_unique_description          title_stemm  \\\n",
       "0                        100.0  кокоб кокон для сна   \n",
       "1                        100.0      стойк для одежд   \n",
       "2                        100.0        Philips blura   \n",
       "\n",
       "                                   description_stemm  svd_title_1  \\\n",
       "0  кокон для сна малыша,пользова меньш месяц цвет...     0.000009   \n",
       "1               стойк для одежды, под вешалк с бутик     0.000587   \n",
       "2  в хорош состоянии, домашн кинотеатр с blu ray,...     0.000066   \n",
       "\n",
       "   svd_title_2  svd_title_3  svd_title_4  svd_title_5  svd_title_6  \\\n",
       "0     0.000007     0.000391    -0.000008     0.000097    -0.000016   \n",
       "1    -0.000272     0.007524    -0.000304    -0.001075     0.001100   \n",
       "2    -0.000011     0.001475    -0.000078     0.000008     0.000075   \n",
       "\n",
       "   svd_title_7  svd_title_8  svd_title_9  svd_title_10  svd_description_1  \\\n",
       "0     0.000003    -0.000185    -0.000011      0.000087       9.558496e-07   \n",
       "1     0.000351    -0.001305     0.008809      0.007706       4.489017e-07   \n",
       "2    -0.000008    -0.000566    -0.000524      0.000228       6.460955e-07   \n",
       "\n",
       "   svd_description_2  svd_description_3  svd_description_4  svd_description_5  \\\n",
       "0           0.020553           0.023893          -0.002497          -0.027351   \n",
       "1           0.002154           0.002740          -0.000388          -0.003285   \n",
       "2           0.093209          -0.006462          -0.068476          -0.063641   \n",
       "\n",
       "   svd_description_6  svd_description_7  svd_description_8  svd_description_9  \\\n",
       "0           0.012651          -0.021217           0.004744           0.005438   \n",
       "1          -0.000029          -0.001379          -0.000057           0.000519   \n",
       "2          -0.005930           0.046418           0.210763          -0.088505   \n",
       "\n",
       "   svd_description_10                                         text_stemm  \\\n",
       "0           -0.008432  постельн принадлежн na na екатеринбург товар д...   \n",
       "1           -0.000023    друг na na самар мебел и интерьер для дом и дач   \n",
       "2           -0.074297  видео, dvd и blu ra плеер na na рост на дон ау...   \n",
       "\n",
       "   svd_text_1  svd_text_2  svd_text_3  svd_text_4  svd_text_5  svd_text_6  \\\n",
       "0    0.228211    0.350972    0.043046    0.370067   -0.070709    0.008977   \n",
       "1    0.130641    0.342396   -0.056600   -0.278212   -0.198494   -0.048847   \n",
       "2    0.057872    0.147053   -0.028207   -0.062384    0.185797    0.007219   \n",
       "\n",
       "   svd_text_7  svd_text_8  svd_text_9  svd_text_10  categorical_come_in  \\\n",
       "0    0.005526   -0.022634   -0.020462     0.008227                 4778   \n",
       "1   -0.247062    0.145076    0.236535     0.052834               825234   \n",
       "2   -0.025027   -0.083915    0.002406     0.002587               576179   \n",
       "\n",
       "   params  img_size_x  img_size_y  img_mean_color  img_std_color  \\\n",
       "0     829       358.0       480.0      109.999181      74.381019   \n",
       "1     306       360.0       480.0       92.326935      61.925344   \n",
       "2     101       392.0       360.0      179.391220      96.180765   \n",
       "\n",
       "   img_blue_mean  img_green_mean  img_red_mean  img_blue_std  image_green_std  \\\n",
       "0      92.047311       81.673557    156.276676     68.322964        73.031863   \n",
       "1      75.835208       93.478848    107.666748     64.132318        59.599434   \n",
       "2     179.351410      179.410565    179.411685     96.221609        96.163812   \n",
       "\n",
       "   image_red_std  img_size_xy  resnet_nima_feature_0  resnet_nima_feature_1  \\\n",
       "0      57.703642     171840.0               0.030471               0.128745   \n",
       "1      57.711213     172800.0               0.007352               0.045739   \n",
       "2      96.156849     141120.0               0.004421               0.027884   \n",
       "\n",
       "   resnet_nima_feature_2  resnet_nima_feature_3  resnet_nima_feature_4  \\\n",
       "0               0.417013               1.057854               1.409388   \n",
       "1               0.192428               0.707258               1.651098   \n",
       "2               0.133923               0.520073               1.510818   \n",
       "\n",
       "   resnet_nima_feature_5  resnet_nima_feature_6  resnet_nima_feature_7  \\\n",
       "0               0.795774               0.369102               0.184106   \n",
       "1               1.382824               0.705383               0.350698   \n",
       "2               1.612786               0.934561               0.501877   \n",
       "\n",
       "   resnet_nima_feature_8  resnet_nima_feature_9  resnet_nima_std  \\\n",
       "0               0.068817               0.037933         0.480984   \n",
       "1               0.143066               0.076292         0.582671   \n",
       "2               0.231114               0.140938         0.597661   \n",
       "\n",
       "   resnet_nima_mean  \n",
       "0          0.452744  \n",
       "1          0.531346  \n",
       "2          0.565096  "
      ]
     },
     "execution_count": 18,
     "metadata": {},
     "output_type": "execute_result"
    }
   ],
   "source": [
    "train.head(3)"
   ]
  },
  {
   "cell_type": "markdown",
   "metadata": {},
   "source": [
    "During various tests these lists was constantly edited, so I left it in this notebook for me"
   ]
  },
  {
   "cell_type": "code",
   "execution_count": 20,
   "metadata": {
    "collapsed": true
   },
   "outputs": [],
   "source": [
    "target = 'deal_probability'\n",
    "predictors = [\n",
    "    'num_desc_punct', 'words_vs_unique_description', 'words_vs_unique_title',\n",
    "    'num_unique_words_description', 'num_unique_words_title', 'num_words_description', 'num_words_title',\n",
    "    'avg_times_up_user', 'avg_days_up_user', 'n_user_items', \n",
    "    'price', 'item_seq_number',\n",
    "    \n",
    "    'svd_title_1', 'svd_title_2', 'svd_title_3', 'svd_title_4', 'svd_title_5',\n",
    "    'svd_title_6', 'svd_title_7', 'svd_title_8', 'svd_title_9', 'svd_title_10'\n",
    "    'svd_description_1', 'svd_description_2', 'svd_description_3', 'svd_description_4', 'svd_description_5',\n",
    "    'svd_description_6', 'svd_description_7', 'svd_description_8', 'svd_description_9', 'svd_description_10',\n",
    "    'svd_text_1', 'svd_text_2', 'svd_text_3', 'svd_text_4', 'svd_text_5',\n",
    "    'svd_text_6', 'svd_text_7', 'svd_text_8', 'svd_text_9', 'svd_text_10',\n",
    "    \n",
    "    'resnet_nima_feature_0', 'resnet_nima_feature_1', 'resnet_nima_feature_2',\n",
    "    'resnet_nima_feature_3', 'resnet_nima_feature_4', 'resnet_nima_feature_5',\n",
    "    'resnet_nima_feature_6', 'resnet_nima_feature_7', 'resnet_nima_feature_8',\n",
    "    'resnet_nima_feature_9',\n",
    "    'resnet_nima_std', 'resnet_nima_mean',\n",
    "    \n",
    "    'img_size_x', 'img_size_y', 'img_size_xy', 'img_mean_color', 'img_std_color',\n",
    "    'img_blue_mean', 'img_green_mean', 'img_red_mean',\n",
    "    'img_blue_std', 'image_green_std', 'image_red_std',\n",
    "]\n",
    "\n",
    "categorical = [\n",
    "    'image_top_1', 'param_1', 'param_2', 'param_3', \n",
    "    'city', 'category_name', 'user_type', 'region',\n",
    "    'parent_category_name', 'categorical_come_in', 'params',\n",
    "]\n",
    "\n",
    "predictors = predictors + categorical"
   ]
  },
  {
   "cell_type": "code",
   "execution_count": 9,
   "metadata": {
    "collapsed": true
   },
   "outputs": [],
   "source": [
    "feature_names = np.hstack([tf_vocab, predictors])"
   ]
  },
  {
   "cell_type": "code",
   "execution_count": 10,
   "metadata": {},
   "outputs": [
    {
     "data": {
      "text/plain": [
       "81"
      ]
     },
     "execution_count": 10,
     "metadata": {},
     "output_type": "execute_result"
    }
   ],
   "source": [
    "train_index, valid_index = train_test_split(np.arange(len(train)), test_size=0.1, random_state=42)\n",
    "y_train = train.loc[train_index, target]\n",
    "y_valid = train.loc[valid_index, target]\n",
    "\n",
    "train_part = train.loc[train_index, predictors]\n",
    "valid_part = train.loc[valid_index, predictors]\n",
    "test = test.loc[:, predictors]\n",
    "\n",
    "del train, predictors, tf_vocab\n",
    "gc.collect()"
   ]
  },
  {
   "cell_type": "code",
   "execution_count": 11,
   "metadata": {
    "_cell_guid": "9e910115-312f-4437-8ba3-9fb6f7426af8",
    "_uuid": "1a50b3e34d76019fdbfd45c3566eec09556f24cb",
    "collapsed": true
   },
   "outputs": [],
   "source": [
    "X_train = csr_matrix(hstack([train_tfidf[train_index], train_part]))\n",
    "X_valid = csr_matrix(hstack([train_tfidf[valid_index], valid_part]))\n",
    "X_test = csr_matrix(hstack([test_tfidf, test]))"
   ]
  },
  {
   "cell_type": "code",
   "execution_count": 14,
   "metadata": {},
   "outputs": [
    {
     "data": {
      "text/plain": [
       "0"
      ]
     },
     "execution_count": 14,
     "metadata": {},
     "output_type": "execute_result"
    }
   ],
   "source": [
    "del train_part, valid_part, train_tfidf, train_index, valid_index\n",
    "del test, test_tfidf\n",
    "gc.collect()"
   ]
  },
  {
   "cell_type": "code",
   "execution_count": 18,
   "metadata": {
    "collapsed": true
   },
   "outputs": [],
   "source": [
    "dtrain = lgb.Dataset(X_train, label=y_train,\n",
    "                     feature_name=list(feature_names), \n",
    "                     categorical_feature=categorical)\n",
    "dvalid = lgb.Dataset(X_valid, label=y_valid,\n",
    "                     feature_name=list(feature_names), \n",
    "                     categorical_feature=categorical)"
   ]
  },
  {
   "cell_type": "code",
   "execution_count": 19,
   "metadata": {
    "_cell_guid": "7e94bcc4-ab56-4a38-bdcf-218791e95c2c",
    "_uuid": "ac57e30cf4452005a2cb20db424d7bcf1f11d1df",
    "collapsed": true
   },
   "outputs": [],
   "source": [
    "rounds = 3000\n",
    "early_stop_rounds = 50\n",
    "params = {\n",
    "    'objective' : 'regression',\n",
    "    'metric' : 'rmse',\n",
    "    'num_leaves' : 250,\n",
    "    # 'max_depth': 15,\n",
    "    'feature_fraction': 0.50,\n",
    "    'bagging_fraction': 0.70,\n",
    "    #'bagging_freq': 2,\n",
    "    'learning_rate' : 0.019,\n",
    "    'verbosity' : -1\n",
    "}"
   ]
  },
  {
   "cell_type": "code",
   "execution_count": 11,
   "metadata": {
    "scrolled": true
   },
   "outputs": [
    {
     "name": "stdout",
     "output_type": "stream",
     "text": [
      "Training until validation scores don't improve for 50 rounds.\n",
      "[50]\ttrain's rmse: 0.231911\tvalid's rmse: 0.233286\n",
      "[100]\ttrain's rmse: 0.2231\tvalid's rmse: 0.225921\n",
      "[150]\ttrain's rmse: 0.218669\tvalid's rmse: 0.223201\n",
      "[200]\ttrain's rmse: 0.215502\tvalid's rmse: 0.221754\n",
      "[250]\ttrain's rmse: 0.212893\tvalid's rmse: 0.220593\n",
      "[300]\ttrain's rmse: 0.21071\tvalid's rmse: 0.219858\n",
      "[350]\ttrain's rmse: 0.208745\tvalid's rmse: 0.219367\n",
      "[400]\ttrain's rmse: 0.206937\tvalid's rmse: 0.218937\n",
      "[450]\ttrain's rmse: 0.205416\tvalid's rmse: 0.218589\n",
      "[500]\ttrain's rmse: 0.203954\tvalid's rmse: 0.218319\n",
      "[550]\ttrain's rmse: 0.202623\tvalid's rmse: 0.218082\n",
      "[600]\ttrain's rmse: 0.201344\tvalid's rmse: 0.217884\n",
      "[650]\ttrain's rmse: 0.200196\tvalid's rmse: 0.217712\n",
      "[700]\ttrain's rmse: 0.199122\tvalid's rmse: 0.21757\n",
      "[750]\ttrain's rmse: 0.198116\tvalid's rmse: 0.217435\n",
      "[800]\ttrain's rmse: 0.197216\tvalid's rmse: 0.217326\n",
      "[850]\ttrain's rmse: 0.196387\tvalid's rmse: 0.217239\n",
      "[900]\ttrain's rmse: 0.195596\tvalid's rmse: 0.217162\n",
      "[950]\ttrain's rmse: 0.194872\tvalid's rmse: 0.217085\n",
      "[1000]\ttrain's rmse: 0.194146\tvalid's rmse: 0.217029\n",
      "[1050]\ttrain's rmse: 0.193495\tvalid's rmse: 0.216976\n",
      "[1100]\ttrain's rmse: 0.192809\tvalid's rmse: 0.216931\n",
      "[1150]\ttrain's rmse: 0.192209\tvalid's rmse: 0.216895\n",
      "[1200]\ttrain's rmse: 0.191607\tvalid's rmse: 0.216861\n",
      "[1250]\ttrain's rmse: 0.190999\tvalid's rmse: 0.216827\n",
      "[1300]\ttrain's rmse: 0.190426\tvalid's rmse: 0.216795\n",
      "[1350]\ttrain's rmse: 0.189844\tvalid's rmse: 0.216773\n",
      "[1400]\ttrain's rmse: 0.189253\tvalid's rmse: 0.216749\n",
      "[1450]\ttrain's rmse: 0.188706\tvalid's rmse: 0.216725\n",
      "[1500]\ttrain's rmse: 0.188147\tvalid's rmse: 0.216693\n",
      "[1550]\ttrain's rmse: 0.187605\tvalid's rmse: 0.216675\n",
      "[1600]\ttrain's rmse: 0.187029\tvalid's rmse: 0.216646\n",
      "[1650]\ttrain's rmse: 0.186499\tvalid's rmse: 0.216625\n",
      "[1700]\ttrain's rmse: 0.185934\tvalid's rmse: 0.216606\n",
      "[1750]\ttrain's rmse: 0.18543\tvalid's rmse: 0.216577\n",
      "[1800]\ttrain's rmse: 0.184928\tvalid's rmse: 0.216561\n",
      "[1850]\ttrain's rmse: 0.184435\tvalid's rmse: 0.216544\n",
      "[1900]\ttrain's rmse: 0.18397\tvalid's rmse: 0.216524\n",
      "[1950]\ttrain's rmse: 0.183503\tvalid's rmse: 0.216514\n",
      "[2000]\ttrain's rmse: 0.183017\tvalid's rmse: 0.216502\n",
      "[2050]\ttrain's rmse: 0.182535\tvalid's rmse: 0.21649\n",
      "[2100]\ttrain's rmse: 0.182061\tvalid's rmse: 0.216459\n",
      "[2150]\ttrain's rmse: 0.181631\tvalid's rmse: 0.216453\n",
      "[2200]\ttrain's rmse: 0.181194\tvalid's rmse: 0.216441\n",
      "[2250]\ttrain's rmse: 0.180751\tvalid's rmse: 0.216437\n",
      "[2300]\ttrain's rmse: 0.180321\tvalid's rmse: 0.216422\n",
      "[2350]\ttrain's rmse: 0.17988\tvalid's rmse: 0.216407\n",
      "[2400]\ttrain's rmse: 0.179446\tvalid's rmse: 0.216402\n",
      "Early stopping, best iteration is:\n",
      "[2378]\ttrain's rmse: 0.179639\tvalid's rmse: 0.2164\n",
      "Wall time: 1h 56min 51s\n"
     ]
    }
   ],
   "source": [
    "%%time\n",
    "evals_result = {}\n",
    "model = lgb.train(params, dtrain, \n",
    "                  valid_sets=[dtrain, dvalid], \n",
    "                  valid_names=['train', 'valid'],\n",
    "                  num_boost_round=rounds,\n",
    "                  early_stopping_rounds=early_stop_rounds, \n",
    "                  verbose_eval=50)"
   ]
  },
  {
   "cell_type": "code",
   "execution_count": 12,
   "metadata": {},
   "outputs": [
    {
     "data": {
      "image/png": "iVBORw0KGgoAAAANSUhEUgAAAt8AAAMzCAYAAAB++36JAAAABHNCSVQICAgIfAhkiAAAAAlwSFlz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\nERGJk/8PUFNp9V58F90AAAAASUVORK5CYII=\n",
      "text/plain": [
       "<matplotlib.figure.Figure at 0x1d10bb39550>"
      ]
     },
     "metadata": {},
     "output_type": "display_data"
    }
   ],
   "source": [
    "fig, ax = plt.subplots(figsize=(10, 14))\n",
    "lgb.plot_importance(model, max_num_features=50, ax=ax)\n",
    "plt.title(\"Light GBM Feature Importance\");"
   ]
  },
  {
   "cell_type": "code",
   "execution_count": 13,
   "metadata": {
    "_cell_guid": "9d49a8cc-4b52-47f4-868a-f7b3006cd9f3",
    "_uuid": "3c93c6232801704e05d2a94c38b7df77d7ed14f4",
    "collapsed": true
   },
   "outputs": [],
   "source": [
    "pred = model.predict(X_test)\n",
    "submission = pd.read_csv(os.path.join(PATH_TO_DATA, 'sample_submission.csv'))\n",
    "submission['deal_probability'] = np.clip(pred, 0, 1)\n",
    "submission.to_csv('nikita_solo_2215.csv', index=False)"
   ]
  },
  {
   "cell_type": "markdown",
   "metadata": {
    "collapsed": true
   },
   "source": [
    "Scores on Public Leaderboard(RMSE):\n",
    "- 0.2215 (+ image features)\n",
    "- 0.2221 (+ svd features)\n",
    "- 0.2222 (+ stemming)\n",
    "- 0.2224 (+ agregated features)\n",
    "- 0.2235 (just simple features)"
   ]
  },
 "metadata": {
  "kernelspec": {
   "display_name": "Python 3",
   "language": "python",
   "name": "python3"
  },
  "language_info": {
   "codemirror_mode": {
    "name": "ipython",
    "version": 3
   },
   "file_extension": ".py",
   "mimetype": "text/x-python",
   "name": "python",
   "nbconvert_exporter": "python",
   "pygments_lexer": "ipython3",
   "version": "3.6.3"
  }
 },
 "nbformat": 4,
 "nbformat_minor": 1
}
